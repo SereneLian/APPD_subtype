{
 "cells": [
  {
   "cell_type": "code",
   "execution_count": 1,
   "metadata": {},
   "outputs": [],
   "source": [
    "import pandas as pd"
   ]
  },
  {
   "cell_type": "code",
   "execution_count": 2,
   "metadata": {},
   "outputs": [
    {
     "name": "stdout",
     "output_type": "stream",
     "text": [
      "45825\n",
      "['G20']\n"
     ]
    }
   ],
   "source": [
    "# check pd diagnoses code\n",
    "pd_data = pd.read_parquet('/home/ADPDCohort/PD_data/Cohort_CPRD')\n",
    "print(len(pd_data))\n",
    "print(pd_data['code'].unique())\n"
   ]
  },
  {
   "cell_type": "code",
   "execution_count": 6,
   "metadata": {},
   "outputs": [
    {
     "name": "stdout",
     "output_type": "stream",
     "text": [
      "113545\n",
      "45046017           36374\n",
      "G309               24621\n",
      "295668011          21655\n",
      "295671015           9587\n",
      "F009                8588\n",
      "376541000006112     2342\n",
      "G308                1663\n",
      "F002                1631\n",
      "500317011           1151\n",
      "295672010           1077\n",
      "F001                1004\n",
      "499946014            902\n",
      "G301                 820\n",
      "76484016             806\n",
      "G300                 506\n",
      "376531000006119      501\n",
      "F000                 268\n",
      "299325013             49\n",
      "Name: code, dtype: int64\n"
     ]
    }
   ],
   "source": [
    "# check ad diagnoses code\n",
    "ad_data = pd.read_parquet('/home/ADPDCohort/AD_data/Cohort_CPRD')\n",
    "print(len(ad_data))\n",
    "print(ad_data['code'].value_counts())\n"
   ]
  },
  {
   "cell_type": "code",
   "execution_count": null,
   "metadata": {},
   "outputs": [],
   "source": [
    "# AD diagbonacded code map back to Read code and count record\n",
    "# medcode    description\tOriginalReadCode\tCleansedReadCode number of cases\n",
    "# 45046017\tAlzheimer's disease\tF110\tF110.00 \t36374\n",
    "# 295668011\t[X]Dementia in Alzheimer's disease\tEu00\tEu00.00   21655\n",
    "# 295671015\t[X]Dementia in Alzheimer's dis, atypical or mixed type\tEu002\tEu00200  9587\n",
    "# 376541000006112\tDementia in Alzheimer's disease with late onset\tEu001\tEu00100  2342\n",
    "# 500317011\tAlzheimer's disease with late onset\tF1101\tF110100 1151\n",
    "# 295672010\t[X]Dementia in Alzheimer's disease, unspecified\tEu00z\tEu00z00\t1077\n",
    "# 499946014\tAlzheimer's disease with early onset\tF1100\tF110000 902\n",
    "# 76484016\tSenile degeneration of brain\tF112\tF112.00 806\n",
    "# 376531000006119\tDementia in Alzheimer's disease with early onset\tEu000\tEu00000 501\n",
    "# 299325013\t[X]Other Alzheimer's disease\tFyu30\tFyu3000 49\n",
    "\n",
    "\n"
   ]
  },
  {
   "cell_type": "code",
   "execution_count": null,
   "metadata": {},
   "outputs": [],
   "source": []
  }
 ],
 "metadata": {
  "kernelspec": {
   "display_name": "temp",
   "language": "python",
   "name": "python3"
  },
  "language_info": {
   "codemirror_mode": {
    "name": "ipython",
    "version": 3
   },
   "file_extension": ".py",
   "mimetype": "text/x-python",
   "name": "python",
   "nbconvert_exporter": "python",
   "pygments_lexer": "ipython3",
   "version": "3.7.16"
  }
 },
 "nbformat": 4,
 "nbformat_minor": 2
}
